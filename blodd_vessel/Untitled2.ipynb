{
 "cells": [
  {
   "cell_type": "code",
   "execution_count": 1,
   "metadata": {},
   "outputs": [],
   "source": [
    "import glob, os\n",
    "import zipfile\n",
    "from read_roi import read_roi_zip \n",
    "import SimpleITK as sitk\n",
    "import numpy as np\n",
    "from collections import OrderedDict\n",
    "\n",
    "from  scipy import ndimage\n",
    "\n",
    "import matplotlib.pyplot as plt\n",
    "\n",
    "from PIL import Image, ImageDraw \n",
    "from PIL import ImagePath\n",
    "\n",
    "def win_scale(data, wl, ww, dtype, out_range):\n",
    "    \"\"\"\n",
    "    Scale pixel intensity data using specified window level, width, and intensity range.\n",
    "    \"\"\"\n",
    "    \n",
    "    data_new = np.empty(data.shape, dtype=np.double)\n",
    "    data_new.fill(out_range[1]-1)\n",
    "    \n",
    "    data_new[data <= (wl-ww/2.0)] = out_range[0]\n",
    "    \n",
    "    data_new[(data>(wl-ww/2.0))&(data<=(wl+ww/2.0))] = ((data[(data>(wl-ww/2.0))&(data<=(wl+ww/2.0))]-(wl-0.5))/(ww-1.0)+0.5)*(out_range[1]-out_range[0])+out_range[0]\n",
    "    \n",
    "    data_new[data > (wl+ww/2.0)] = out_range[1]-1\n",
    "    \n",
    "    return data_new.astype(dtype)"
   ]
  },
  {
   "cell_type": "code",
   "execution_count": null,
   "metadata": {},
   "outputs": [],
   "source": []
  }
 ],
 "metadata": {
  "kernelspec": {
   "display_name": "Python 3",
   "language": "python",
   "name": "python3"
  },
  "language_info": {
   "codemirror_mode": {
    "name": "ipython",
    "version": 3
   },
   "file_extension": ".py",
   "mimetype": "text/x-python",
   "name": "python",
   "nbconvert_exporter": "python",
   "pygments_lexer": "ipython3",
   "version": "3.6.12"
  }
 },
 "nbformat": 4,
 "nbformat_minor": 4
}

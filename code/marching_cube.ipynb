{
 "cells": [
  {
   "cell_type": "code",
   "execution_count": null,
   "metadata": {},
   "outputs": [],
   "source": [
    "nd_imgs = np.ndarray((len(img_list), 512, 512), dtype = np.float32)\n",
    "print(nd_imgs.shape)"
   ]
  },
  {
   "cell_type": "code",
   "execution_count": null,
   "metadata": {},
   "outputs": [],
   "source": [
    "for ir in range(len(img_list)):\n",
    "    img= imread(img_list[ir], as_gray=True)\n",
    "    nd_imgs[ir]=img"
   ]
  },
  {
   "cell_type": "code",
   "execution_count": null,
   "metadata": {},
   "outputs": [],
   "source": [
    "import numpy as np\n",
    "import matplotlib.pyplot as plt\n",
    "from mpl_toolkits.mplot3d.art3d import Poly3DCollection\n",
    "\n",
    "from skimage import measure\n",
    "# from skimage.draw import ellipsoid\n",
    "\n",
    "\n",
    "# # Generate a level set about zero of two identical ellipsoids in 3D\n",
    "# ellip_base = ellipsoid(6, 10, 16, levelset=True)\n",
    "# ellip_double = np.concatenate((ellip_base[:-1, ...],\n",
    "#                                ellip_base[2:, ...]), axis=0)\n",
    "\n",
    "# # Use marching cubes to obtain the surface mesh of these ellipsoids\n",
    "verts, faces, normals, values = measure.marching_cubes(nd_imgs, 0)\n",
    "\n",
    "# Display resulting triangular mesh using Matplotlib. This can also be done\n",
    "# with mayavi (see skimage.measure.marching_cubes_lewiner docstring).\n",
    "fig = plt.figure(figsize=(10, 10))\n",
    "ax = fig.add_subplot(111, projection='3d')\n",
    "\n",
    "# Fancy indexing: `verts[faces]` to generate a collection of triangles\n",
    "mesh = Poly3DCollection(verts[faces])\n",
    "mesh.set_edgecolor('k')\n",
    "ax.add_collection3d(mesh)\n",
    "\n",
    "ax.set_xlabel(\"x-axis: a = 6 per ellipsoid\")\n",
    "ax.set_ylabel(\"y-axis: b = 10\")\n",
    "ax.set_zlabel(\"z-axis: c = 16\")\n",
    "\n",
    "ax.set_xlim(0, 24)  # a = 6 (times two for 2nd ellipsoid)\n",
    "ax.set_ylim(0, 20)  # b = 10\n",
    "ax.set_zlim(0, 32)  # c = 16\n",
    "\n",
    "plt.tight_layout()\n",
    "plt.show()"
   ]
  }
 ],
 "metadata": {
  "kernelspec": {
   "display_name": "Python 3",
   "language": "python",
   "name": "python3"
  },
  "language_info": {
   "codemirror_mode": {
    "name": "ipython",
    "version": 3
   },
   "file_extension": ".py",
   "mimetype": "text/x-python",
   "name": "python",
   "nbconvert_exporter": "python",
   "pygments_lexer": "ipython3",
   "version": "3.6.9"
  }
 },
 "nbformat": 4,
 "nbformat_minor": 4
}

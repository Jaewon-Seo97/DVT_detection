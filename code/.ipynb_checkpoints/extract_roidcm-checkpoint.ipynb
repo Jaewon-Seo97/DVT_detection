{
 "cells": [
  {
   "cell_type": "code",
   "execution_count": 1,
   "metadata": {},
   "outputs": [],
   "source": [
    "import os\n",
    "import glob\n",
    "import zipfile\n",
    "import shutil"
   ]
  },
  {
   "cell_type": "code",
   "execution_count": 2,
   "metadata": {},
   "outputs": [
    {
     "data": {
      "text/plain": [
       "'C:\\\\Users\\\\ST-USER\\\\jaewon\\\\DVT_detection\\\\code'"
      ]
     },
     "execution_count": 2,
     "metadata": {},
     "output_type": "execute_result"
    }
   ],
   "source": [
    "pwd"
   ]
  },
  {
   "cell_type": "code",
   "execution_count": 2,
   "metadata": {},
   "outputs": [
    {
     "name": "stdout",
     "output_type": "stream",
     "text": [
      "['01013843', '01203803', '01537731', '01645613', '01727253', '01827453', '02602503', '03867833', '04544953', '04566843', '04765293', '05113703', '05287153', '06362903', '06610173', '06917653', '08187183', '08222013', '08587193', '08637023', '08671413', '09033493', '09154913', '09245063_20200519', '09409533', '09902573', '10471963_2', '10738863', '10863183', '11490283', '11667283', '11918903', '12019383', '12457443', '12628693', '13505103', '13719443_20200519', '13720323', '13720323_2', '13720323_3', '13744443', '13986173', '13997853', '14249913', '14462033', '14597783', '16278373', '16335563', '16410373', '16672183', '16811823', '17126793', '17551543', '18145093', '18354683', '18493913', '18523913', '18539623', '18791103', '18890993', '18890993_2', '19152283', '19418913', '19445983', '19447203', '19495593', '19584543', '19584543_2', '19938653', '20275533', '20853143', '20876923', '20954723', '21538113', '21792963', '21792963_2', '22069143', '22073603', '22636343', '22685203', '22878213', '23796023', '23901863', '24068403', '24078043', '24117083', '24312673', '24656783', '25017203', '25105183', '25314963', '25399243', '25418463', '25482523', '25544063', '25856463', '26034413', '26056853', '26884843', '27051893', '27259563', '27374393', '27620453', '27620453_2', '27620453_3', '28008733', '28543743', '28611923', '28738643', '28744283', '29355393', '29513573', '29895163', '29987553', '30149163', '30578233', '30625453', '30668563', '30841413', '30841413_2', '31071053', '31683973', '31743453', '31803353', '31847273', '31885413', '31991913', '32108773', '32335073', '32350823', '32395013', '32706223', '32776403', '33610403', '33734773_20200519', '33998783', '34229383', '34332203', '34535173', '34635403', '34804003', '34804003_2', '34910273', '35021173', '35177173', '35236503', '35381283', '35602143', '35833713', '35927343', '35929233', '35933313', '40079268', '40110215', '40355722', '40361291', '40362612', '40412771', '40471206', '40530787', '40551164', '40585523', '40629290', '40640204', '40660114', '40665001', '40730998', '40739135', '40749668', '40752602', '40766175', '40771230', '40771230_2', '40771230_3', '40771230_4', '40771230_5', '40773591', '40784382', '40800873', '40802350', '40806819', '40827265_20200519', '40828617', '40832469', '40834845', '40848387', '40853017', '40853240', '40854832', '40876971', '40876988', '40886985', '40896122', '40898399', '40902546', '40909895', '40914998', '40919481', '40926410', '40935243', '40997171', '41009882', '41011830', '41016835', '41022878', '41023718', '41030879'] 207\n"
     ]
    }
   ],
   "source": [
    "file_path= 'C:/Users/ST-USER/jaewon/DVT_detection/data/dvt' \n",
    "filenames= sorted(os.listdir(file_path))\n",
    "print(filenames, len(filenames))"
   ]
  },
  {
   "cell_type": "code",
   "execution_count": 3,
   "metadata": {},
   "outputs": [
    {
     "name": "stdout",
     "output_type": "stream",
     "text": [
      "['0068-0204-0316.roi', '0069-0204-0316.roi', '0071-0212-0327.roi', '0072-0213-0327.roi', '0073-0216-0329.roi', '0074-0218-0331.roi', '0075-0220-0333.roi', '0076-0220-0333.roi', '0077-0222-0335.roi', '0078-0222-0335.roi', '0079-0222-0337.roi', '0080-0224-0337.roi', '0082-0227-0339.roi', '0112-0257-0343.roi', '0113-0259-0345.roi', '0114-0259-0345.roi', '0115-0258-0347.roi', '0116-0258-0348.roi', '0117-0258-0350.roi', '0118-0259-0350.roi', '0119-0260-0352.roi', '0120-0260-0353.roi', '0121-0261-0353.roi', '0122-0262-0354.roi', '0123-0263-0354.roi', '0127-0271-0353.roi', '0128-0272-0352.roi', '0129-0275-0350.roi', '0130-0277-0349.roi', '0131-0278-0347.roi', '0132-0279-0345.roi', '0133-0279-0343.roi', '0134-0280-0341.roi', '0135-0280-0339.roi', '0136-0281-0339.roi', '0137-0282-0339.roi', '0138-0283-0338.roi', '0139-0283-0339.roi', '0140-0283-0339.roi', '0141-0283-0337.roi', '0142-0282-0337.roi', '0143-0284-0337.roi', '0144-0285-0336.roi', '0144-0281-0324.roi', '0144-0290-0327.roi', '0145-0283-0335.roi', '0146-0283-0335.roi', '0147-0283-0335.roi', '0148-0283-0335.roi', '0149-0283-0335.roi', '0150-0283-0337.roi', '0151-0283-0337.roi', '0152-0283-0338.roi', '0153-0283-0340.roi', '0154-0283-0340.roi', '0155-0285-0339.roi', '0156-0285-0339.roi', '0157-0284-0338.roi']\n",
      "['0068-0204-0316.roi', '0069-0204-0316.roi', '0071-0212-0327.roi', '0072-0213-0327.roi', '0073-0216-0329.roi', '0074-0218-0331.roi', '0075-0220-0333.roi', '0076-0220-0333.roi', '0077-0222-0335.roi', '0078-0222-0335.roi', '0079-0222-0337.roi', '0080-0224-0337.roi', '0082-0227-0339.roi', '0112-0257-0343.roi', '0113-0259-0345.roi', '0114-0259-0345.roi', '0115-0258-0347.roi', '0116-0258-0348.roi', '0117-0258-0350.roi', '0118-0259-0350.roi', '0119-0260-0352.roi', '0120-0260-0353.roi', '0121-0261-0353.roi', '0122-0262-0354.roi', '0123-0263-0354.roi', '0127-0271-0353.roi', '0128-0272-0352.roi', '0129-0275-0350.roi', '0130-0277-0349.roi', '0131-0278-0347.roi', '0132-0279-0345.roi', '0133-0279-0343.roi', '0134-0280-0341.roi', '0135-0280-0339.roi', '0136-0281-0339.roi', '0137-0282-0339.roi', '0138-0283-0338.roi', '0139-0283-0339.roi', '0140-0283-0339.roi', '0141-0283-0337.roi', '0142-0282-0337.roi', '0143-0284-0337.roi', '0144-0285-0336.roi', '0144-0281-0324.roi', '0144-0290-0327.roi', '0145-0283-0335.roi', '0146-0283-0335.roi', '0147-0283-0335.roi', '0148-0283-0335.roi', '0149-0283-0335.roi', '0150-0283-0337.roi', '0151-0283-0337.roi', '0152-0283-0338.roi', '0153-0283-0340.roi', '0154-0283-0340.roi', '0155-0285-0339.roi', '0156-0285-0339.roi', '0157-0284-0338.roi']\n"
     ]
    }
   ],
   "source": [
    "roi_zip = zipfile.ZipFile(file_path + '/'+filenames[0] +'/'+ filenames [0] +'.zip')\n",
    "# roi_file= roi_zip.extract('Fantasy Jungle.pdf', 'C:\\\\Stories\\\\Fantasy')\n",
    "\n",
    "roi_names=roi_zip.namelist()\n",
    "print(roi_zip.namelist())\n",
    "print(roi_names)\n",
    "\n",
    "roi_zip.close()\n",
    "\n",
    "\n"
   ]
  },
  {
   "cell_type": "code",
   "execution_count": 5,
   "metadata": {},
   "outputs": [
    {
     "name": "stdout",
     "output_type": "stream",
     "text": [
      "0068\n",
      "58\n"
     ]
    }
   ],
   "source": [
    "roi_number = []\n",
    "for rn in range(len(roi_names)):\n",
    "    roi_number.append(roi_names[rn][:4])\n",
    "    \n",
    "print(roi_number[0])\n",
    "print(len(roi_number))"
   ]
  },
  {
   "cell_type": "code",
   "execution_count": 6,
   "metadata": {},
   "outputs": [
    {
     "name": "stdout",
     "output_type": "stream",
     "text": [
      "245 01013843_0000.dcm\n",
      "245 C:/Users/ST-USER/jaewon/DVT_detection/data/dvt/01013843\\01013843_0000.dcm\n"
     ]
    }
   ],
   "source": [
    "dcmlist= sorted(glob.glob(file_path+'/'+filenames[0]+'/*.dcm'))\n",
    "dcmnames=[]\n",
    "for dn in sorted(os.listdir(file_path+'/'+filenames[0])):\n",
    "    if dn.endswith('.dcm'):\n",
    "        dcmnames.append(dn)\n",
    "        \n",
    "print(len(dcmnames), dcmnames[0])\n",
    "print(len(dcmlist), dcmlist[0])"
   ]
  },
  {
   "cell_type": "code",
   "execution_count": 10,
   "metadata": {},
   "outputs": [
    {
     "name": "stdout",
     "output_type": "stream",
     "text": [
      "/01013843\\01013843_0000\n"
     ]
    }
   ],
   "source": [
    "print(dcmlist[0][dcmlist[0].rindex():dcmlist[0].rindex('.dcm')])"
   ]
  },
  {
   "cell_type": "code",
   "execution_count": 4,
   "metadata": {},
   "outputs": [
    {
     "ename": "NameError",
     "evalue": "name 'dcmnames' is not defined",
     "output_type": "error",
     "traceback": [
      "\u001b[1;31m---------------------------------------------------------------------------\u001b[0m",
      "\u001b[1;31mNameError\u001b[0m                                 Traceback (most recent call last)",
      "\u001b[1;32m<ipython-input-4-1094f7037a69>\u001b[0m in \u001b[0;36m<module>\u001b[1;34m\u001b[0m\n\u001b[0;32m      5\u001b[0m \u001b[0mrealdcm\u001b[0m\u001b[1;33m=\u001b[0m \u001b[0mos\u001b[0m\u001b[1;33m.\u001b[0m\u001b[0mmkdir\u001b[0m\u001b[1;33m(\u001b[0m\u001b[0mredcmpath\u001b[0m\u001b[1;33m+\u001b[0m\u001b[1;34m'/'\u001b[0m\u001b[1;33m+\u001b[0m\u001b[0mfilenames\u001b[0m\u001b[1;33m[\u001b[0m\u001b[1;36m0\u001b[0m\u001b[1;33m]\u001b[0m\u001b[1;33m)\u001b[0m\u001b[1;33m\u001b[0m\u001b[1;33m\u001b[0m\u001b[0m\n\u001b[0;32m      6\u001b[0m \u001b[1;33m\u001b[0m\u001b[0m\n\u001b[1;32m----> 7\u001b[1;33m \u001b[1;32mfor\u001b[0m \u001b[0md\u001b[0m \u001b[1;32min\u001b[0m \u001b[0mrange\u001b[0m\u001b[1;33m(\u001b[0m\u001b[0mlen\u001b[0m\u001b[1;33m(\u001b[0m\u001b[0mdcmnames\u001b[0m\u001b[1;33m)\u001b[0m\u001b[1;33m)\u001b[0m\u001b[1;33m:\u001b[0m\u001b[1;33m\u001b[0m\u001b[1;33m\u001b[0m\u001b[0m\n\u001b[0m\u001b[0;32m      8\u001b[0m     \u001b[1;32mfor\u001b[0m \u001b[0mr\u001b[0m \u001b[1;32min\u001b[0m \u001b[0mroi_number\u001b[0m\u001b[1;33m:\u001b[0m\u001b[1;33m\u001b[0m\u001b[1;33m\u001b[0m\u001b[0m\n\u001b[0;32m      9\u001b[0m \u001b[1;31m#         print(r)\u001b[0m\u001b[1;33m\u001b[0m\u001b[1;33m\u001b[0m\u001b[1;33m\u001b[0m\u001b[0m\n",
      "\u001b[1;31mNameError\u001b[0m: name 'dcmnames' is not defined"
     ]
    }
   ],
   "source": [
    "i=0\n",
    "redcmpath='C:/Users/ST-USER/jaewon/DVT_detection/data/dcm'\n",
    "\n",
    "\n",
    "realdcm= os.mkdir(redcmpath+'/'+filenames[0])\n",
    "\n",
    "for d in range(len(dcmnames)):\n",
    "    for r in roi_number:\n",
    "#         print(r)\n",
    "        if r == dcmnames[d][9:-4]:\n",
    "\n",
    "#             shutil.copy(str(dcmlist[d]), str(redcmpath))\n",
    "            i+=1\n",
    "    \n",
    "            print('copy',dcmnames[d][9:-4], r)\n",
    "# #         else:\n",
    "# #             print(r, dcmnames[d][9:-4])\n",
    "print(i)"
   ]
  },
  {
   "cell_type": "code",
   "execution_count": 16,
   "metadata": {},
   "outputs": [
    {
     "data": {
      "text/plain": [
       "'./01013843\\\\01013843_0000.dcm'"
      ]
     },
     "execution_count": 16,
     "metadata": {},
     "output_type": "execute_result"
    }
   ],
   "source": [
    "dcmlist[0]"
   ]
  },
  {
   "cell_type": "code",
   "execution_count": 17,
   "metadata": {},
   "outputs": [
    {
     "name": "stdout",
     "output_type": "stream",
     "text": [
      "0000.dcm\n",
      "01013843_0000\n",
      "0000\n",
      "\n"
     ]
    }
   ],
   "source": [
    "print(dcmnames[0][9:])\n",
    "print(dcmnames[0][:-4])\n",
    "print(dcmnames[0][9:-4])\n",
    "print()"
   ]
  },
  {
   "cell_type": "code",
   "execution_count": 39,
   "metadata": {},
   "outputs": [
    {
     "name": "stdout",
     "output_type": "stream",
     "text": [
      "01827453\n",
      "['C:/Users/ST-USER/jaewon/DVT_detection/data/dvt/01827453\\\\1827453.zip']    \n",
      "1827453\n"
     ]
    }
   ],
   "source": [
    "testnum=5\n",
    "print(filenames[testnum])\n",
    "testzipath=file_path + '/'+filenames[testnum] +'/'+'*.zip'\n",
    "test1=glob.glob(testzipath)\n",
    "\n",
    "test2=test1[0][test1[0].rindex('\\\\')+1:test1[0].rindex('.zip')]\n",
    "print(test1, \"   \")\n",
    "print(test2)\n"
   ]
  },
  {
   "cell_type": "code",
   "execution_count": 43,
   "metadata": {},
   "outputs": [
    {
     "name": "stdout",
     "output_type": "stream",
     "text": [
      "the number of dcms: [21] 1\n",
      "mathing files: 207 245 245\n"
     ]
    }
   ],
   "source": [
    "for whole in range(len(filenames)):\n",
    "    \n",
    "\n",
    "    roizipath=file_path + '/'+filenames[whole] +'/'+'*.zip'\n",
    "    \n",
    "    roifile=glob.glob(roizipath)\n",
    "    roifilename=roifile[0][roifile[0].rindex('\\\\')+1:roifile[0].rindex('.zip')]\n",
    "#     shutil.copy(str(roifile), str)\n",
    "    \n",
    "#     roi_zip = zipfile.ZipFile(file_path + '/'+filenames[whole] +'/'+ roifilename +'.zip')\n",
    "#     roi_names=roi_zip.namelist()\n",
    "#     roi_zip.close()\n",
    "\n",
    "#     roi_number = []\n",
    "#     for rn in range(len(roi_names)):\n",
    "#         roi_number.append(roi_names[rn][:4])\n",
    "\n",
    "#     dcmlist= sorted(glob.glob(file_path+'/'+filenames[whole]+'/*.dcm'))\n",
    "\n",
    "#     dcmnames=[]\n",
    "#     for dn in sorted(os.listdir(file_path+'/'+filenames[whole])):\n",
    "#         if dn.endswith('.dcm'):\n",
    "#             dcmnames.append(dn)\n",
    "\n",
    "#     dcms=[]\n",
    "#     i=0\n",
    "    redcmpath='C:/Users/ST-USER/jaewon/DVT_detection/data/dcm'\n",
    "\n",
    "#     realdcm= os.mkdir(redcmpath+'/'+filenames[whole])\n",
    "\n",
    "#     for d in range(len(dcmnames)):\n",
    "#         for r in roi_number:\n",
    "#     #         print(r)\n",
    "#             if r == dcmnames[d][9:-4]:\n",
    "\n",
    "#                 shutil.copy(str(dcmlist[d]), str(redcmpath+'/'+filenames[whole]))\n",
    "#                 i+=1\n",
    "#     dcms.append(i)\n",
    "    shutil.copy(str(roifile[0]), str(redcmpath+'/'+filenames[whole]))\n",
    "\n",
    "\n",
    "print('the number of dcms:', dcms, len(dcms))\n",
    "print('mathing files:', len(filenames), len(dcmlist), len(dcmnames))\n"
   ]
  },
  {
   "cell_type": "code",
   "execution_count": null,
   "metadata": {},
   "outputs": [],
   "source": [
    "realdcm= os.mkdir(redcmpath+'/'+filenames[0])"
   ]
  }
 ],
 "metadata": {
  "kernelspec": {
   "display_name": "Python 3",
   "language": "python",
   "name": "python3"
  },
  "language_info": {
   "codemirror_mode": {
    "name": "ipython",
    "version": 3
   },
   "file_extension": ".py",
   "mimetype": "text/x-python",
   "name": "python",
   "nbconvert_exporter": "python",
   "pygments_lexer": "ipython3",
   "version": "3.6.9"
  }
 },
 "nbformat": 4,
 "nbformat_minor": 4
}

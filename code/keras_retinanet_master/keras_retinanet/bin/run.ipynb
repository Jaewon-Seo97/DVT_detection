{
 "cells": [
  {
   "cell_type": "code",
   "execution_count": 9,
   "metadata": {
    "scrolled": false
   },
   "outputs": [
    {
     "name": "stdout",
     "output_type": "stream",
     "text": [
      "Using TensorFlow backend.\n",
      "2020-01-21 23:14:28.050748: I tensorflow/stream_executor/platform/default/dso_loader.cc:44] Successfully opened dynamic library libcudart.so.10.1\n",
      "WARNING: Logging before flag parsing goes to stderr.\n",
      "W0121 23:14:29.489340 137398945925008 module_wrapper.py:139] From ../../keras_retinanet/utils/gpu.py:51: The name tf.ConfigProto is deprecated. Please use tf.compat.v1.ConfigProto instead.\n",
      "\n",
      "W0121 23:14:29.489581 137398945925008 module_wrapper.py:139] From ../../keras_retinanet/utils/gpu.py:53: The name tf.keras.backend.set_session is deprecated. Please use tf.compat.v1.keras.backend.set_session instead.\n",
      "\n",
      "W0121 23:14:29.489688 137398945925008 module_wrapper.py:139] From ../../keras_retinanet/utils/gpu.py:53: The name tf.Session is deprecated. Please use tf.compat.v1.Session instead.\n",
      "\n",
      "2020-01-21 23:14:29.593722: I tensorflow/core/platform/profile_utils/cpu_utils.cc:101] CPU Frequency: 2333000000 Hz\n",
      "2020-01-21 23:14:29.627858: I tensorflow/compiler/xla/service/service.cc:168] XLA service 0x1cd6909a350 initialized for platform Host (this does not guarantee that XLA will be used). Devices:\n",
      "2020-01-21 23:14:29.627912: I tensorflow/compiler/xla/service/service.cc:176]   StreamExecutor device (0): Host, Default Version\n",
      "2020-01-21 23:14:29.631198: I tensorflow/stream_executor/platform/default/dso_loader.cc:44] Successfully opened dynamic library libcuda.so.1\n",
      "2020-01-21 23:14:29.789844: I tensorflow/compiler/xla/service/service.cc:168] XLA service 0x1cd69101450 initialized for platform CUDA (this does not guarantee that XLA will be used). Devices:\n",
      "2020-01-21 23:14:29.789898: I tensorflow/compiler/xla/service/service.cc:176]   StreamExecutor device (0): Tesla V100-SXM2-16GB, Compute Capability 7.0\n",
      "2020-01-21 23:14:29.791458: I tensorflow/core/common_runtime/gpu/gpu_device.cc:1618] Found device 0 with properties: \n",
      "name: Tesla V100-SXM2-16GB major: 7 minor: 0 memoryClockRate(GHz): 1.53\n",
      "pciBusID: 0004:04:00.0\n",
      "2020-01-21 23:14:29.791499: I tensorflow/stream_executor/platform/default/dso_loader.cc:44] Successfully opened dynamic library libcudart.so.10.1\n",
      "2020-01-21 23:14:29.793028: I tensorflow/stream_executor/platform/default/dso_loader.cc:44] Successfully opened dynamic library libcublas.so.10\n",
      "2020-01-21 23:14:29.794464: I tensorflow/stream_executor/platform/default/dso_loader.cc:44] Successfully opened dynamic library libcufft.so.10\n",
      "2020-01-21 23:14:29.794776: I tensorflow/stream_executor/platform/default/dso_loader.cc:44] Successfully opened dynamic library libcurand.so.10\n",
      "2020-01-21 23:14:29.796234: I tensorflow/stream_executor/platform/default/dso_loader.cc:44] Successfully opened dynamic library libcusolver.so.10\n",
      "2020-01-21 23:14:29.797471: I tensorflow/stream_executor/platform/default/dso_loader.cc:44] Successfully opened dynamic library libcusparse.so.10\n",
      "2020-01-21 23:14:29.800279: I tensorflow/stream_executor/platform/default/dso_loader.cc:44] Successfully opened dynamic library libcudnn.so.7\n",
      "2020-01-21 23:14:29.803002: I tensorflow/core/common_runtime/gpu/gpu_device.cc:1746] Adding visible gpu devices: 0\n",
      "2020-01-21 23:14:29.803022: I tensorflow/stream_executor/platform/default/dso_loader.cc:44] Successfully opened dynamic library libcudart.so.10.1\n",
      "2020-01-21 23:14:30.106322: I tensorflow/core/common_runtime/gpu/gpu_device.cc:1159] Device interconnect StreamExecutor with strength 1 edge matrix:\n",
      "2020-01-21 23:14:30.106371: I tensorflow/core/common_runtime/gpu/gpu_device.cc:1165]      0 \n",
      "2020-01-21 23:14:30.106380: I tensorflow/core/common_runtime/gpu/gpu_device.cc:1178] 0:   N \n",
      "2020-01-21 23:14:30.109214: I tensorflow/core/common_runtime/gpu/gpu_device.cc:1304] Created TensorFlow device (/job:localhost/replica:0/task:0/device:GPU:0 with 14955 MB memory) -> physical GPU (device: 0, name: Tesla V100-SXM2-16GB, pci bus id: 0004:04:00.0, compute capability: 7.0)\n",
      "Loading model, this may take a second...\n",
      "W0121 23:14:30.472948 137398945925008 deprecation.py:506] From /opt/anaconda3/envs/gipyo/lib/python3.6/site-packages/tensorflow_core/python/ops/resource_variable_ops.py:1630: calling BaseResourceVariable.__init__ (from tensorflow.python.ops.resource_variable_ops) with constraint is deprecated and will be removed in a future version.\n",
      "Instructions for updating:\n",
      "If using Keras pass *_constraint arguments to layers.\n",
      "W0121 23:14:30.620806 137398945925008 module_wrapper.py:139] From /opt/anaconda3/envs/gipyo/lib/python3.6/site-packages/keras/backend/tensorflow_backend.py:4070: The name tf.nn.max_pool is deprecated. Please use tf.nn.max_pool2d instead.\n",
      "\n",
      "W0121 23:14:40.295462 137398945925008 deprecation.py:323] From ../../keras_retinanet/backend/tensorflow_backend.py:104: where (from tensorflow.python.ops.array_ops) is deprecated and will be removed in a future version.\n",
      "Instructions for updating:\n",
      "Use tf.where in 2.0, which has the same broadcast rule as np.where\n",
      "W0121 23:14:53.072603 137398945925008 module_wrapper.py:139] From /opt/anaconda3/envs/gipyo/lib/python3.6/site-packages/keras/backend/tensorflow_backend.py:422: The name tf.global_variables is deprecated. Please use tf.compat.v1.global_variables instead.\n",
      "\n",
      "tracking <tf.Variable 'Variable:0' shape=(9, 4) dtype=float32> anchors\n",
      "tracking <tf.Variable 'Variable_1:0' shape=(9, 4) dtype=float32> anchors\n",
      "tracking <tf.Variable 'Variable_2:0' shape=(9, 4) dtype=float32> anchors\n",
      "tracking <tf.Variable 'Variable_3:0' shape=(9, 4) dtype=float32> anchors\n",
      "tracking <tf.Variable 'Variable_4:0' shape=(9, 4) dtype=float32> anchors\n",
      "2020-01-21 23:15:02.869208: I tensorflow/stream_executor/platform/default/dso_loader.cc:44] Successfully opened dynamic library libcudnn.so.7\n",
      "2020-01-21 23:15:04.054466: I tensorflow/stream_executor/platform/default/dso_loader.cc:44] Successfully opened dynamic library libcublas.so.10\n",
      "Traceback (most recent call last):\n",
      "  File \"evaluate.py\", line 184, in <module>\n",
      "    main()\n",
      "  File \"evaluate.py\", line 167, in main\n",
      "    for label, (average_precision, num_annotations) in average_precisions.items():\n",
      "AttributeError: 'int' object has no attribute 'items'\n"
     ]
    }
   ],
   "source": [
    "!python evaluate.py --convert-model --backbone resnet152 --gpu 0. --save-path ./result --image-min-side 512 --image-max-side 512 csv test.txt class_name.txt ./snapshots/resnet152_csv_50.h5"
   ]
  },
  {
   "cell_type": "code",
   "execution_count": 12,
   "metadata": {
    "scrolled": true
   },
   "outputs": [
    {
     "name": "stdout",
     "output_type": "stream",
     "text": [
      "Using TensorFlow backend.\n",
      "2020-01-21 13:12:08.244640: I tensorflow/stream_executor/platform/default/dso_loader.cc:44] Successfully opened dynamic library libcudart.so.10.1\n",
      "WARNING: Logging before flag parsing goes to stderr.\n",
      "W0121 13:12:09.703162 127474038228880 module_wrapper.py:139] From ../../keras_retinanet/utils/gpu.py:51: The name tf.ConfigProto is deprecated. Please use tf.compat.v1.ConfigProto instead.\n",
      "\n",
      "W0121 13:12:09.703415 127474038228880 module_wrapper.py:139] From ../../keras_retinanet/utils/gpu.py:53: The name tf.keras.backend.set_session is deprecated. Please use tf.compat.v1.keras.backend.set_session instead.\n",
      "\n",
      "W0121 13:12:09.703525 127474038228880 module_wrapper.py:139] From ../../keras_retinanet/utils/gpu.py:53: The name tf.Session is deprecated. Please use tf.compat.v1.Session instead.\n",
      "\n",
      "2020-01-21 13:12:09.820676: I tensorflow/core/platform/profile_utils/cpu_utils.cc:101] CPU Frequency: 2300000000 Hz\n",
      "2020-01-21 13:12:09.857477: I tensorflow/compiler/xla/service/service.cc:168] XLA service 0xc7db1990130 initialized for platform Host (this does not guarantee that XLA will be used). Devices:\n",
      "2020-01-21 13:12:09.857538: I tensorflow/compiler/xla/service/service.cc:176]   StreamExecutor device (0): Host, Default Version\n",
      "2020-01-21 13:12:09.862218: I tensorflow/stream_executor/platform/default/dso_loader.cc:44] Successfully opened dynamic library libcuda.so.1\n",
      "2020-01-21 13:12:10.030222: I tensorflow/compiler/xla/service/service.cc:168] XLA service 0xc7db19f7650 initialized for platform CUDA (this does not guarantee that XLA will be used). Devices:\n",
      "2020-01-21 13:12:10.030272: I tensorflow/compiler/xla/service/service.cc:176]   StreamExecutor device (0): Tesla V100-SXM2-16GB, Compute Capability 7.0\n",
      "2020-01-21 13:12:10.031761: I tensorflow/core/common_runtime/gpu/gpu_device.cc:1618] Found device 0 with properties: \n",
      "name: Tesla V100-SXM2-16GB major: 7 minor: 0 memoryClockRate(GHz): 1.53\n",
      "pciBusID: 0004:04:00.0\n",
      "2020-01-21 13:12:10.031801: I tensorflow/stream_executor/platform/default/dso_loader.cc:44] Successfully opened dynamic library libcudart.so.10.1\n",
      "2020-01-21 13:12:10.033299: I tensorflow/stream_executor/platform/default/dso_loader.cc:44] Successfully opened dynamic library libcublas.so.10\n",
      "2020-01-21 13:12:10.034781: I tensorflow/stream_executor/platform/default/dso_loader.cc:44] Successfully opened dynamic library libcufft.so.10\n",
      "2020-01-21 13:12:10.035107: I tensorflow/stream_executor/platform/default/dso_loader.cc:44] Successfully opened dynamic library libcurand.so.10\n",
      "2020-01-21 13:12:10.036475: I tensorflow/stream_executor/platform/default/dso_loader.cc:44] Successfully opened dynamic library libcusolver.so.10\n",
      "2020-01-21 13:12:10.037555: I tensorflow/stream_executor/platform/default/dso_loader.cc:44] Successfully opened dynamic library libcusparse.so.10\n",
      "2020-01-21 13:12:10.040694: I tensorflow/stream_executor/platform/default/dso_loader.cc:44] Successfully opened dynamic library libcudnn.so.7\n",
      "2020-01-21 13:12:10.043358: I tensorflow/core/common_runtime/gpu/gpu_device.cc:1746] Adding visible gpu devices: 0\n",
      "2020-01-21 13:12:10.043383: I tensorflow/stream_executor/platform/default/dso_loader.cc:44] Successfully opened dynamic library libcudart.so.10.1\n",
      "2020-01-21 13:12:10.361321: I tensorflow/core/common_runtime/gpu/gpu_device.cc:1159] Device interconnect StreamExecutor with strength 1 edge matrix:\n",
      "2020-01-21 13:12:10.361377: I tensorflow/core/common_runtime/gpu/gpu_device.cc:1165]      0 \n",
      "2020-01-21 13:12:10.361396: I tensorflow/core/common_runtime/gpu/gpu_device.cc:1178] 0:   N \n",
      "2020-01-21 13:12:10.364277: I tensorflow/core/common_runtime/gpu/gpu_device.cc:1304] Created TensorFlow device (/job:localhost/replica:0/task:0/device:GPU:0 with 14955 MB memory) -> physical GPU (device: 0, name: Tesla V100-SXM2-16GB, pci bus id: 0004:04:00.0, compute capability: 7.0)\n",
      "Loading model, this may take a second...\n",
      "W0121 13:12:10.694477 127474038228880 deprecation.py:506] From /opt/anaconda3/envs/gipyo/lib/python3.6/site-packages/tensorflow_core/python/ops/resource_variable_ops.py:1630: calling BaseResourceVariable.__init__ (from tensorflow.python.ops.resource_variable_ops) with constraint is deprecated and will be removed in a future version.\n",
      "Instructions for updating:\n",
      "If using Keras pass *_constraint arguments to layers.\n",
      "W0121 13:12:10.841146 127474038228880 module_wrapper.py:139] From /opt/anaconda3/envs/gipyo/lib/python3.6/site-packages/keras/backend/tensorflow_backend.py:4070: The name tf.nn.max_pool is deprecated. Please use tf.nn.max_pool2d instead.\n",
      "\n",
      "W0121 13:12:20.515880 127474038228880 deprecation.py:323] From ../../keras_retinanet/backend/tensorflow_backend.py:104: where (from tensorflow.python.ops.array_ops) is deprecated and will be removed in a future version.\n",
      "Instructions for updating:\n",
      "Use tf.where in 2.0, which has the same broadcast rule as np.where\n",
      "W0121 13:12:33.543398 127474038228880 module_wrapper.py:139] From /opt/anaconda3/envs/gipyo/lib/python3.6/site-packages/keras/backend/tensorflow_backend.py:422: The name tf.global_variables is deprecated. Please use tf.compat.v1.global_variables instead.\n",
      "\n",
      "tracking <tf.Variable 'Variable:0' shape=(9, 4) dtype=float32> anchors\n",
      "tracking <tf.Variable 'Variable_1:0' shape=(9, 4) dtype=float32> anchors\n",
      "tracking <tf.Variable 'Variable_2:0' shape=(9, 4) dtype=float32> anchors\n",
      "tracking <tf.Variable 'Variable_3:0' shape=(9, 4) dtype=float32> anchors\n",
      "tracking <tf.Variable 'Variable_4:0' shape=(9, 4) dtype=float32> anchors\n",
      "Running network: N/A% (0 of 132) |       | Elapsed Time: 0:00:00 ETA:  --:--:--2020-01-21 13:12:43.484456: I tensorflow/stream_executor/platform/default/dso_loader.cc:44] Successfully opened dynamic library libcudnn.so.7\n",
      "2020-01-21 13:12:44.670289: I tensorflow/stream_executor/platform/default/dso_loader.cc:44] Successfully opened dynamic library libcublas.so.10\n",
      "Running network: 100% (132 of 132) |#####| Elapsed Time: 0:00:13 Time:  0:00:13\n",
      "Parsing annotations: 100% (132 of 132) |#| Elapsed Time: 0:00:00 Time:  0:00:00\n",
      "77 instances of class appendicitis with average precision: 0.6195\n",
      "55 instances of class diverticulitis with average precision: 0.8452\n",
      "Inference time for 132 images: 0.0815\n",
      "mAP using the weighted average of precisions among classes: 0.7135\n",
      "mAP: 0.7324\n"
     ]
    }
   ],
   "source": [
    "!python evaluate.py --convert-model --backbone resnet152 --gpu 0 --score-threshold 0 --iou-threshold 0 --save-path None --image-min-side 512 --image-max-side 512 csv test.txt class_name.txt ./snapshots/resnet152_csv_50.h5"
   ]
  },
  {
   "cell_type": "code",
   "execution_count": 4,
   "metadata": {},
   "outputs": [
    {
     "name": "stdout",
     "output_type": "stream",
     "text": [
      "running build_ext\n",
      "cythoning keras_retinanet/utils/compute_overlap.pyx to keras_retinanet/utils/compute_overlap.c\n",
      "creating keras_retinanet\n",
      "creating keras_retinanet/utils\n",
      "error: /home/user1/gipyo/3_appendicitis_detection/keras-retinanet-master/keras_retinanet/bin/keras_retinanet/utils/compute_overlap.pyx\n"
     ]
    }
   ],
   "source": [
    "!python ../../setup.py build_ext --inplace"
   ]
  },
  {
   "cell_type": "code",
   "execution_count": 28,
   "metadata": {},
   "outputs": [
    {
     "name": "stdout",
     "output_type": "stream",
     "text": [
      "FP/image: 0.5757575757575758\n",
      "sensitivity: 0.8409090909090909\n",
      "Figure(640x480)\n"
     ]
    }
   ],
   "source": [
    "!python evaluate_2.py"
   ]
  },
  {
   "cell_type": "code",
   "execution_count": null,
   "metadata": {},
   "outputs": [],
   "source": []
  }
 ],
 "metadata": {
  "kernelspec": {
   "display_name": "Python 3",
   "language": "python",
   "name": "python3"
  },
  "language_info": {
   "codemirror_mode": {
    "name": "ipython",
    "version": 3
   },
   "file_extension": ".py",
   "mimetype": "text/x-python",
   "name": "python",
   "nbconvert_exporter": "python",
   "pygments_lexer": "ipython3",
   "version": "3.6.9"
  }
 },
 "nbformat": 4,
 "nbformat_minor": 2
}

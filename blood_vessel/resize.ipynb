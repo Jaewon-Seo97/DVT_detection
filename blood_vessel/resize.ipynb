{
 "cells": [
  {
   "cell_type": "code",
   "execution_count": null,
   "source": [
    "import glob, os\r\n",
    "import zipfile\r\n",
    "from read_roi import read_roi_zip \r\n",
    "import SimpleITK as sitk\r\n",
    "import numpy as np\r\n",
    "from collections import OrderedDict\r\n",
    "\r\n",
    "from  scipy import ndimage\r\n",
    "\r\n",
    "import matplotlib.pyplot as plt\r\n",
    "\r\n",
    "from PIL import Image, ImageDraw \r\n",
    "from PIL import ImagePath\r\n",
    "import cv2\r\n",
    "\r\n",
    "import pandas as pd\r\n",
    "def win_scale(data, wl, ww, dtype, out_range):\r\n",
    "    \"\"\"\r\n",
    "    Scale pixel intensity data using specified window level, width, and intensity range.\r\n",
    "    \"\"\"\r\n",
    "    \r\n",
    "    data_new = np.empty(data.shape, dtype=np.double)\r\n",
    "    data_new.fill(out_range[1]-1)\r\n",
    "    \r\n",
    "    data_new[data <= (wl-ww/2.0)] = out_range[0]\r\n",
    "    \r\n",
    "    data_new[(data>(wl-ww/2.0))&(data<=(wl+ww/2.0))] = ((data[(data>(wl-ww/2.0))&(data<=(wl+ww/2.0))]-(wl-0.5))/(ww-1.0)+0.5)*(out_range[1]-out_range[0])+out_range[0]\r\n",
    "    \r\n",
    "    data_new[data > (wl+ww/2.0)] = out_range[1]-1\r\n",
    "    \r\n",
    "    return data_new.astype(dtype)"
   ],
   "outputs": [],
   "metadata": {}
  },
  {
   "cell_type": "code",
   "execution_count": null,
   "source": [
    "abroiPath= '../segment/01013843/abnormal.zip'\r\n",
    "nroiPath='../../segment/01013843/normal.zip'"
   ],
   "outputs": [],
   "metadata": {}
  },
  {
   "cell_type": "code",
   "execution_count": null,
   "source": [
    "abr = read_roi_zip(abroiPath)\r\n",
    "nr = read_roi_zip(nroiPath)"
   ],
   "outputs": [],
   "metadata": {
    "collapsed": true,
    "jupyter": {
     "outputs_hidden": true
    }
   }
  },
  {
   "cell_type": "code",
   "execution_count": null,
   "source": [
    "od= OrderedDict(abr)"
   ],
   "outputs": [],
   "metadata": {}
  },
  {
   "cell_type": "code",
   "execution_count": null,
   "source": [
    "help(OrderedDict)"
   ],
   "outputs": [],
   "metadata": {
    "collapsed": true,
    "jupyter": {
     "outputs_hidden": true
    }
   }
  },
  {
   "cell_type": "code",
   "execution_count": null,
   "source": [
    "odKey = list(od.keys())\n",
    "print(odKey[0], odKey[0].split('-')[0])"
   ],
   "outputs": [],
   "metadata": {}
  },
  {
   "cell_type": "code",
   "execution_count": null,
   "source": [
    "print(odKey)"
   ],
   "outputs": [],
   "metadata": {}
  },
  {
   "cell_type": "code",
   "execution_count": null,
   "source": [
    "match_num=[]\n",
    "for mn in range(len(odKey)):\n",
    "    match_num.append(odKey[mn].split('-')[0])"
   ],
   "outputs": [],
   "metadata": {}
  },
  {
   "cell_type": "code",
   "execution_count": null,
   "source": [
    "roi_x = abr[odKey[0]]['x']\n",
    "roi_y = abr[odKey[0]]['y']\n",
    "\n",
    "xyList = []\n",
    "for xy in range(len(roi_x)):\n",
    "    xyList.append((roi_x[xy],roi_y[xy]))"
   ],
   "outputs": [],
   "metadata": {}
  },
  {
   "cell_type": "code",
   "execution_count": null,
   "source": [
    "nplist= np.array(xyList)\n",
    "# print(nplist)"
   ],
   "outputs": [],
   "metadata": {
    "collapsed": true,
    "jupyter": {
     "outputs_hidden": true
    }
   }
  },
  {
   "cell_type": "code",
   "execution_count": null,
   "source": [
    "testList = sorted(glob.glob('../test_dcm/*'))\n",
    "p_num= []\n",
    "for pn in range(len(testList)):\n",
    "    p_num.append(testList[pn][testList[pn].rindex('/')+1:])\n",
    "    \n",
    "print(testList[0], p_num[0])\n"
   ],
   "outputs": [],
   "metadata": {}
  },
  {
   "cell_type": "code",
   "execution_count": null,
   "source": [
    "print(type(p_num[0]), type(match_num[0]))"
   ],
   "outputs": [],
   "metadata": {}
  },
  {
   "cell_type": "code",
   "execution_count": null,
   "source": [
    "help(Image.open)"
   ],
   "outputs": [],
   "metadata": {
    "collapsed": true,
    "jupyter": {
     "outputs_hidden": true
    }
   }
  },
  {
   "cell_type": "code",
   "execution_count": null,
   "source": [
    "print(match_num)"
   ],
   "outputs": [],
   "metadata": {}
  },
  {
   "cell_type": "code",
   "execution_count": null,
   "source": [
    "import cv2"
   ],
   "outputs": [],
   "metadata": {}
  },
  {
   "cell_type": "code",
   "execution_count": null,
   "source": [
    "help(cv2.rectangle)"
   ],
   "outputs": [],
   "metadata": {}
  },
  {
   "cell_type": "code",
   "execution_count": null,
   "source": [
    "print(img_array.shape)"
   ],
   "outputs": [],
   "metadata": {}
  },
  {
   "cell_type": "code",
   "execution_count": null,
   "source": [
    "testList"
   ],
   "outputs": [],
   "metadata": {}
  },
  {
   "cell_type": "code",
   "execution_count": null,
   "source": [
    "print(p_num)"
   ],
   "outputs": [],
   "metadata": {}
  },
  {
   "cell_type": "code",
   "execution_count": null,
   "source": [
    "from skimage import io"
   ],
   "outputs": [],
   "metadata": {}
  },
  {
   "cell_type": "code",
   "execution_count": null,
   "source": [
    "print('./example_roi'+p_num[0]+str(p)+'.png')"
   ],
   "outputs": [],
   "metadata": {}
  },
  {
   "cell_type": "code",
   "execution_count": null,
   "source": [
    "# for a in range(len(p_num)):\n",
    "for p in range(5):    \n",
    "#     dcm_dcm = sitk.ReadImage(testList[0]+'/'+p_num[0]+'_'+match_num[p]+'.dcm')\n",
    "#     print(testList[p]+'/'+p_num[p]+'_'+match_num[p]+'.dcm')\n",
    "#     dcm_img = sitk.GetArrayFromImage(dcm_dcm)[0]\n",
    "#     img_array = win_scale(dcm_img, 80, 380, np.uint8, (0, 255))\n",
    "#     img_test= img_array.copy()\n",
    "    # print(dcm_img.dtype)\n",
    "    # im = Image.open(dcm_img)\n",
    "    # img1 = ImageDraw.Draw(im)\n",
    "    # img1.polygon(xyList, fill=1, outline=None)  \n",
    "    # img = hole[mn]\n",
    "    #         print(int(mn))\n",
    "    \n",
    "    roi_x = abr[odKey[p]]['x']\n",
    "    roi_y = abr[odKey[p]]['y']\n",
    "    print(max(roi_x), max(roi_y))\n",
    "    back = np.zeros((512,512,3), dtype=np.uint8)\n",
    "    back[:,:,0] = img_array\n",
    "    back[:,:,1] = img_array\n",
    "    back[:,:,2] = img_array\n",
    "\n",
    "    img_test = img_array\n",
    "#     backR = np.zeros((512,512,1), dtype=np.uint8)\n",
    "#     gray = np.uint8(img_array)\n",
    "#     img1 = gray.copy()\n",
    "\n",
    "    # draw = cv2.polylines(back, [nplist], True, (0,255,0), 2)\n",
    "    drawRec = cv2.rectangle(img_test, (min(roi_x), min(roi_y)), (max(roi_x), max(roi_y)), (255,0,0))\n",
    "    drawRec = \n",
    "    io.imsave('./example_roi/'+p_num[0]+'_'+str(p)+'.png', drawRec)\n",
    "\n",
    "        # cv2.fillPoly(drawRec, (min(roi_x), min(roi_y)), (max(roi_x), max(roi_y)), (255,255,255))\n",
    "    #     plt.figure(figsize=(20,20))\n",
    "    #     plt.imshow(drawRec, cmap='gray')\n",
    "    #     # plt.imshow(drawRec, cmap='gray')\n",
    "    #     plt.show()\n",
    "        # _, contours, hierachy = cv2.findContours(img1, cv2.RETR_TREE,cv2.CHAIN_APPROX_SIMPLE)\n",
    "\n"
   ],
   "outputs": [],
   "metadata": {}
  },
  {
   "cell_type": "code",
   "execution_count": null,
   "source": [
    "aaa = np.zeros((max(roi_x)-min(roi_x), max(roi_y)-min(roi_y),1), dtype= np.uint8)\n",
    "aaa[:,:,0] = img_array[min(roi_x):max(roi_x), min(roi_y):max(roi_y)]"
   ],
   "outputs": [],
   "metadata": {}
  },
  {
   "cell_type": "code",
   "execution_count": null,
   "source": [
    "img_mul = img_array * backR"
   ],
   "outputs": [],
   "metadata": {}
  },
  {
   "cell_type": "code",
   "execution_count": null,
   "source": [
    "img_array = win_scale(dcm_img, 80, 380, np.uint8, (0, 255))"
   ],
   "outputs": [],
   "metadata": {}
  },
  {
   "cell_type": "code",
   "execution_count": null,
   "source": [
    "plt.figure(figsize=(10,10))\n",
    "bbb = np.zeros((max(roi_y)-min(roi_y),max(roi_x)-min(roi_x),1), dtype= np.uint8)\n",
    "bbb[:,:,0] = img_test[min(roi_y):max(roi_y),min(roi_x):max(roi_x)]\n",
    "# plt.imshow(img_array[min(roi_y):max(roi_y),min(roi_x):max(roi_x)], cmap='gray')\n",
    "# plt.imshow(img_array[346:356, 254:263], cmap='gray')\n",
    "# plt.imshow(img_test[min(roi_x):max(roi_x),min(roi_y):max(roi_y)], cmap='gray')\n",
    "# plt.imshow(img_test[min(roi_y):max(roi_y),min(roi_x):max(roi_x)], cmap='gray')\n",
    "plt.imshow(bbb, cmap='gray')"
   ],
   "outputs": [],
   "metadata": {}
  },
  {
   "cell_type": "code",
   "execution_count": null,
   "source": [
    "np.zeors()"
   ],
   "outputs": [],
   "metadata": {}
  },
  {
   "cell_type": "code",
   "execution_count": null,
   "source": [
    "T1_WINDOW_LEVEL= (380,80)\n",
    "dcm_list=sorted(glob.glob('../../local/data/dvt/01013843/*.dcm'))\n",
    "\n",
    "img_T1 = sitk.ReadImage(dcm_list)\n",
    "img_T1_255 = sitk.Cast(sitk.IntensityWindowing(img_T1, \n",
    "                                               windowMinimum=T1_WINDOW_LEVEL[1]-T1_WINDOW_LEVEL[0]/2.0, \n",
    "                                               windowMaximum=T1_WINDOW_LEVEL[1]+T1_WINDOW_LEVEL[0]/2.0), \n",
    "                       sitk.sitkUInt8)\n",
    "\n",
    "point_acquisition_interface = gui.PointDataAquisition(img_T1, window_level=(380,80))\n",
    "\n",
    "#preselected seed point in the left ventricle  \n",
    "point_acquisition_interface.set_point_indexes([(315,205,67)])\n",
    "\n",
    "initial_seed_point_indexes = point_acquisition_interface.get_point_indexes()"
   ],
   "outputs": [],
   "metadata": {}
  },
  {
   "cell_type": "code",
   "execution_count": null,
   "source": [
    "roiPath = '../segment/'\n",
    "dcmList = sorted(glob.glob('../test_dcm/*'))\n",
    "p_num= []\n",
    "\n",
    "for pn in range(len(dcmList)):\n",
    "    p_num.append(dcmList[pn][dcmList[pn].rindex('/')+1:])\n",
    "\n"
   ],
   "outputs": [],
   "metadata": {}
  },
  {
   "cell_type": "code",
   "execution_count": null,
   "source": [
    "abr = read_roi_zip(abroiPath)\n",
    "abn_odKey = list(OrderedDict(abr).keys())\n",
    "print(abn_odKey[0].split('-')[0])\n",
    "print(int(abn_odKey[0].split('-')[0]))"
   ],
   "outputs": [],
   "metadata": {}
  },
  {
   "cell_type": "code",
   "execution_count": null,
   "source": [
    "###############주간보고 캡쳐\n",
    "# for whl in range(len(p_num)):\n",
    "for whl in range(1):\n",
    "    \n",
    "    abroiPath= '../segment/'+ p_num[whl]+'/abnormal.zip'\n",
    "    nroiPath='../segment/'+ p_num[whl]+'/normal.zip'\n",
    "\n",
    "    abr = read_roi_zip(abroiPath)\n",
    "    nr =  read_roi_zip(nroiPath)\n",
    "\n",
    "    abn_odKey = list(OrderedDict(abr).keys())\n",
    "    n_odKey = list(OrderedDict(nr).keys())\n",
    "\n",
    "\n",
    "    for ak in range(len(abn_odKey)):\n",
    "        \n",
    "        ab_x_min = min(abr[abn_odKey[ak]]['x'])\n",
    "        ab_y_min = min(abr[abn_odKey[ak]]['y'])\n",
    "        ab_x_max = max(abr[abn_odKey[ak]]['x'])\n",
    "        ab_y_max = max(abr[abn_odKey[ak]]['y'])\n",
    "        \n",
    "# \n",
    "        dcm_dcm = sitk.ReadImage(dcmList[whl]+'/'+p_num[whl]+'_'+'0'+str(int(abn_odKey[ak].split('-')[0])-1)+'.dcm')\n",
    "        dcm_img = sitk.GetArrayFromImage(dcm_dcm)[0]\n",
    "        img_array = win_scale(dcm_img, 80, 380, np.uint8, (0, 255))\n",
    "\n",
    "\n",
    "\n",
    "        bbb = np.zeros((ab_y_max-ab_y_min, ab_x_max-ab_x_min,1), dtype= np.uint8)\n",
    "        bbb[:,:,0] = img_array[ab_y_min:ab_y_max, ab_x_min:ab_x_max]\n",
    "#         bbb = np.zeros((ab_x_max-ab_x_min, ab_y_max-ab_y_min, 1), dtype= np.uint8)\n",
    "#         bbb[:,:,0] = img_array[ab_x_min:ab_x_max,ab_y_min:ab_y_max]\n",
    "        \n",
    "#     for nk in range(len(n_odKey)):\n",
    "        \n",
    "        n_x_min = min(nr[n_odKey[ak]]['x'])\n",
    "        n_y_min = min(nr[n_odKey[ak]]['y'])\n",
    "        n_x_max = max(nr[n_odKey[ak]]['x'])\n",
    "        n_y_max = max(nr[n_odKey[ak]]['y'])\n",
    "\n",
    "#         dcm_dcm = sitk.ReadImage(dcmList[whl]+'/'+p_num[whl]+'_'+abn_odKey[ak].split('-')[0]+'.dcm')\n",
    "#         dcm_img = sitk.GetArrayFromImage(dcm_dcm)[0]\n",
    "#         img_array = win_scale(dcm_img, 80, 380, np.uint8, (0, 255))\n",
    "\n",
    "        nnn = np.zeros((n_y_max-n_y_min, n_x_max-n_x_min,1), dtype= np.uint8)\n",
    "        nnn[:,:,0] = img_array[n_y_min:n_y_max, n_x_min:n_x_max]\n",
    "        \n",
    "#         nnn = np.zeros((n_x_max-n_x_min, n_y_max-n_y_min, 1), dtype= np.uint8)\n",
    "#         nnn[:,:,0] = img_array[n_x_min:n_x_max, n_y_min:n_y_max]\n",
    "\n",
    "#         print(p_num[whl]+'_'+abn_odKey[ak].split('-')[0])\n",
    "\n",
    "        plt.figure(figsize=(10,10))\n",
    "        \n",
    "        plt.subplot(1,3,1)\n",
    "        plt.title(p_num[whl]+'_'+abn_odKey[ak].split('-')[0])\n",
    "        plt.imshow(img_array, cmap='gray')\n",
    "        plt.subplot(1,3,2)\n",
    "        plt.title('abnormal:'+str(ab_x_min)+'_' +str(ab_y_min)+'_' +str(ab_x_max)+'_' +str(ab_y_max))\n",
    "        plt.imshow(bbb, cmap='gray')\n",
    "        plt.subplot(1,3,3)\n",
    "        plt.title('normal:'+str(n_x_min)+'_' + str(n_y_min)+'_' +str(n_x_max)+'_' + str(n_y_max))\n",
    "        plt.imshow(nnn, cmap='gray')"
   ],
   "outputs": [],
   "metadata": {
    "collapsed": true,
    "jupyter": {
     "outputs_hidden": true
    }
   }
  },
  {
   "cell_type": "code",
   "execution_count": null,
   "source": [
    "xlsx = pd.read_excel('../../local/data/dvt_list.xlsx')\n",
    "\n",
    "p_numpath = dcmList\n",
    "p_numStr=[]\n",
    "p_numInt=[]\n",
    "for pn in range(len(p_numpath)):\n",
    "    p_numStr.append(p_numpath[pn][p_numpath[pn].rindex('/')+1:])\n",
    "    p_numInt.append(int(p_numpath[pn][p_numpath[pn].rindex('/')+1:]))\n",
    "print(p_numStr[0])\n",
    "print(p_numInt[0])\n",
    "print(len(p_numpath),len(p_numStr),len(p_numInt))\n",
    "\n",
    "p_ids = []\n",
    "ww_list = []\n",
    "wl_list = []\n",
    "for ids in range(len(xlsx)):\n",
    "    p_ids.append(str(xlsx['ID'][ids]))\n",
    "    ww_list.append(xlsx['WW'][ids])\n",
    "    wl_list.append(xlsx['WL'][ids])\n",
    "print(len(p_ids), len(ww_list), len(wl_list))    \n",
    "\n",
    "print(p_ids.index(p_numStr[0]))\n",
    "print(p_ids[p_ids.index(p_numStr[0])], p_numStr[0])\n",
    "ww=[]\n",
    "wl=[]\n",
    "for tt in range(len(p_numStr)):\n",
    "    if p_numStr[tt] not in p_ids:\n",
    "        print(p_numStr[tt], 'files not in list')\n",
    "    else:\n",
    "        print('number:', tt, 'match:', p_ids[p_ids.index(p_numStr[tt])], p_numStr[tt])\n",
    "        if p_ids[p_ids.index(p_numStr[tt])] != p_numStr[tt]:\n",
    "            print('No matching')\n",
    "        else:\n",
    "            ww.append(ww_list[p_ids.index(p_numStr[tt])])\n",
    "            wl.append(wl_list[p_ids.index(p_numStr[tt])])"
   ],
   "outputs": [],
   "metadata": {}
  },
  {
   "cell_type": "code",
   "execution_count": null,
   "source": [
    "ww[0]"
   ],
   "outputs": [],
   "metadata": {}
  },
  {
   "cell_type": "code",
   "execution_count": null,
   "source": [
    "print(len(str(int(abn_odKey[ak].split('-')[0])-1)))\n",
    "print(str(int(abn_odKey[ak].split('-')[0])-1))"
   ],
   "outputs": [],
   "metadata": {}
  },
  {
   "cell_type": "code",
   "execution_count": null,
   "source": [
    "if len(str(int(abn_odKey[ak].split('-')[0])-1))==2:\n",
    "    match_num = '00'+str(int(abn_odKey[ak].split('-')[0])-1)\n",
    "    \n",
    "elif len(str(int(abn_odKey[ak].split('-')[0])-1))==3:\n",
    "    match_num = '0'+str(int(abn_odKey[ak].split('-')[0])-1)\n",
    "else:\n",
    "    print(str(int(abn_odKey[ak].split('-')[0])-1))"
   ],
   "outputs": [],
   "metadata": {}
  },
  {
   "cell_type": "code",
   "execution_count": null,
   "source": [
    "##########################################################\n",
    "\n",
    "for whl in range(len(p_num)):\n",
    "# for whl in range(2):\n",
    "    \n",
    "    abroiPath= '../segment/'+ p_num[whl]+'/abnormal.zip'\n",
    "    nroiPath='../segment/'+ p_num[whl]+'/normal.zip'\n",
    "\n",
    "    abr = read_roi_zip(abroiPath)\n",
    "    nr =  read_roi_zip(nroiPath)\n",
    "\n",
    "    abn_odKey = list(OrderedDict(abr).keys())\n",
    "    n_odKey = list(OrderedDict(nr).keys())\n",
    "\n",
    "    abArea=[]\n",
    "    nArea=[]\n",
    "    ab_x = []\n",
    "    ab_y = []\n",
    "    n_x = []\n",
    "    n_y = []\n",
    "    \n",
    "    \n",
    "       \n",
    "    for ak in range(len(abn_odKey)):\n",
    "        \n",
    "        if len(str(int(abn_odKey[ak].split('-')[0])-1))==2:\n",
    "            match_num = '00'+str(int(abn_odKey[ak].split('-')[0])-1)\n",
    "\n",
    "        elif len(str(int(abn_odKey[ak].split('-')[0])-1))==3:\n",
    "            match_num = '0'+str(int(abn_odKey[ak].split('-')[0])-1)\n",
    "        else:\n",
    "            print(str(int(abn_odKey[ak].split('-')[0])-1))\n",
    "        \n",
    "        ab_x_min = min(abr[abn_odKey[ak]]['x'])\n",
    "        ab_y_min = min(abr[abn_odKey[ak]]['y'])\n",
    "        ab_x_max = max(abr[abn_odKey[ak]]['x'])\n",
    "        ab_y_max = max(abr[abn_odKey[ak]]['y'])\n",
    "# \n",
    "#         dcm_dcm = sitk.ReadImage(dcmList[whl]+'/'+p_num[whl]+'_'+'0'+str(int(abn_odKey[ak].split('-')[0])-1)+'.dcm')\n",
    "        dcm_dcm = sitk.ReadImage(dcmList[whl]+'/'+p_num[whl]+'_'+match_num+'.dcm')\n",
    "        dcm_img = sitk.GetArrayFromImage(dcm_dcm)[0]\n",
    "        img_array = win_scale(dcm_img, wl[whl], ww[whl], np.uint8, (0, 255))\n",
    "\n",
    "    \n",
    "        bbb = np.zeros((ab_y_max-ab_y_min, ab_x_max-ab_x_min,1), dtype= np.uint8)\n",
    "        bbb[:,:,0] = img_array[ab_y_min:ab_y_max, ab_x_min:ab_x_max]\n",
    "        \n",
    "        abArea.append((ab_y_max-ab_y_min)*(ab_x_max-ab_x_min))\n",
    "        ab_y.append(ab_y_max-ab_y_min)\n",
    "        ab_x.append(ab_x_max-ab_x_min)\n",
    "#         bbb = np.zeros((ab_x_max-ab_x_min, ab_y_max-ab_y_min, 1), dtype= np.uint8)\n",
    "#         bbb[:,:,0] = img_array[ab_x_min:ab_x_max,ab_y_min:ab_y_max]\n",
    "        \n",
    "#     for nk in range(len(n_odKey)):\n",
    "        \n",
    "        n_x_min = min(nr[n_odKey[ak]]['x'])\n",
    "        n_y_min = min(nr[n_odKey[ak]]['y'])\n",
    "        n_x_max = max(nr[n_odKey[ak]]['x'])\n",
    "        n_y_max = max(nr[n_odKey[ak]]['y'])\n",
    "\n",
    "#         dcm_dcm = sitk.ReadImage(dcmList[whl]+'/'+p_num[whl]+'_'+abn_odKey[ak].split('-')[0]+'.dcm')\n",
    "#         dcm_img = sitk.GetArrayFromImage(dcm_dcm)[0]\n",
    "#         img_array = win_scale(dcm_img, 80, 380, np.uint8, (0, 255))\n",
    "\n",
    "        nnn = np.zeros((n_y_max-n_y_min, n_x_max-n_x_min,1), dtype= np.uint8)\n",
    "        nnn[:,:,0] = img_array[n_y_min:n_y_max, n_x_min:n_x_max]\n",
    "        \n",
    "        nArea.append((n_y_max-n_y_min)*(n_x_max-n_x_min))\n",
    "        n_y.append(n_y_max-n_y_min)\n",
    "        n_x.append(n_x_max-n_x_min)\n",
    "        \n",
    "#         plt.figure(figsize=(10,10))\n",
    "        \n",
    "#         plt.subplot(1,3,1)\n",
    "#         plt.title(p_num[whl]+'_'+abn_odKey[ak].split('-')[0])\n",
    "#         plt.imshow(img_array, cmap='gray')\n",
    "#         plt.subplot(1,3,2)\n",
    "#         plt.title('abnormal:'+str(ab_x_min)+'_' +str(ab_y_min)+'_' +str(ab_x_max)+'_' +str(ab_y_max))\n",
    "#         plt.imshow(bbb, cmap='gray')\n",
    "#         plt.subplot(1,3,3)\n",
    "#         plt.title('normal:'+str(n_x_min)+'_' + str(n_y_min)+'_' +str(n_x_max)+'_' + str(n_y_max))\n",
    "#         plt.imshow(nnn, cmap='gray')"
   ],
   "outputs": [],
   "metadata": {}
  },
  {
   "cell_type": "code",
   "execution_count": null,
   "source": [
    "print(max(abArea), max(nArea))\n",
    "print('ab:',max(ab_y),max(ab_x), min(ab_y), min(ab_x),' n:',max(n_y),max(n_x), min(n_y), min(n_x))"
   ],
   "outputs": [],
   "metadata": {}
  },
  {
   "cell_type": "code",
   "execution_count": null,
   "source": [
    "from skimage import io"
   ],
   "outputs": [],
   "metadata": {}
  },
  {
   "cell_type": "code",
   "execution_count": null,
   "source": [
    "#################save origin\n",
    "for whl in range(len(p_num)):\n",
    "# for whl in range(2):\n",
    "    \n",
    "    abroiPath= '../segment/'+ p_num[whl]+'/abnormal.zip'\n",
    "    nroiPath='../segment/'+ p_num[whl]+'/normal.zip'\n",
    "\n",
    "    abr = read_roi_zip(abroiPath)\n",
    "    nr =  read_roi_zip(nroiPath)\n",
    "\n",
    "    abn_odKey = list(OrderedDict(abr).keys())\n",
    "    n_odKey = list(OrderedDict(nr).keys())\n",
    "    \n",
    "       \n",
    "    for ak in range(len(abn_odKey)):\n",
    "        \n",
    "        if len(str(int(abn_odKey[ak].split('-')[0])-1))==2:\n",
    "            match_num = '00'+str(int(abn_odKey[ak].split('-')[0])-1)\n",
    "\n",
    "        elif len(str(int(abn_odKey[ak].split('-')[0])-1))==3:\n",
    "            match_num = '0'+str(int(abn_odKey[ak].split('-')[0])-1)\n",
    "        else:\n",
    "            print(str(int(abn_odKey[ak].split('-')[0])-1))\n",
    "        \n",
    "        ab_x_min = min(abr[abn_odKey[ak]]['x'])\n",
    "        ab_y_min = min(abr[abn_odKey[ak]]['y'])\n",
    "        ab_x_max = max(abr[abn_odKey[ak]]['x'])\n",
    "        ab_y_max = max(abr[abn_odKey[ak]]['y'])\n",
    "# \n",
    "#         dcm_dcm = sitk.ReadImage(dcmList[whl]+'/'+p_num[whl]+'_'+'0'+str(int(abn_odKey[ak].split('-')[0])-1)+'.dcm')\n",
    "        dcm_dcm = sitk.ReadImage(dcmList[whl]+'/'+p_num[whl]+'_'+match_num+'.dcm')\n",
    "        dcm_img = sitk.GetArrayFromImage(dcm_dcm)[0]\n",
    "        img_array = win_scale(dcm_img, wl[whl], ww[whl], np.uint8, (0, 255))\n",
    "\n",
    "    \n",
    "        bbb = np.zeros((ab_y_max-ab_y_min, ab_x_max-ab_x_min,1), dtype= np.uint8)\n",
    "        bbb[:,:,0] = img_array[ab_y_min:ab_y_max, ab_x_min:ab_x_max]\n",
    "        \n",
    "       \n",
    "        n_x_min = min(nr[n_odKey[ak]]['x'])\n",
    "        n_y_min = min(nr[n_odKey[ak]]['y'])\n",
    "        n_x_max = max(nr[n_odKey[ak]]['x'])\n",
    "        n_y_max = max(nr[n_odKey[ak]]['y'])\n",
    "\n",
    "\n",
    "        nnn = np.zeros((n_y_max-n_y_min, n_x_max-n_x_min,1), dtype= np.uint8)\n",
    "        nnn[:,:,0] = img_array[n_y_min:n_y_max, n_x_min:n_x_max]\n",
    "        \n",
    "        io.imsave('../test_img_origin/abnormal/'+p_num[whl]+'_'+abn_odKey[ak].split('-')[0]+'.png', bbb)\n",
    "        io.imsave('../test_img_origin/normal/'+p_num[whl]+'_'+abn_odKey[ak].split('-')[0]+'.png', nnn)"
   ],
   "outputs": [],
   "metadata": {}
  },
  {
   "cell_type": "code",
   "execution_count": null,
   "source": [
    "#################save paste zeros\n",
    "ab_np = np.ndarray((16,16,51), dtype= np.uint8)\n",
    "n_np = np.ndarray((16,16,51), dtype= np.uint8)\n",
    "i = 0\n",
    "for whl in range(len(p_num)):\n",
    "# for whl in range(2):\n",
    "    \n",
    "    abroiPath= '../segment/'+ p_num[whl]+'/abnormal.zip'\n",
    "    nroiPath='../segment/'+ p_num[whl]+'/normal.zip'\n",
    "\n",
    "    abr = read_roi_zip(abroiPath)\n",
    "    nr =  read_roi_zip(nroiPath)\n",
    "\n",
    "    abn_odKey = list(OrderedDict(abr).keys())\n",
    "    n_odKey = list(OrderedDict(nr).keys())\n",
    "    \n",
    "       \n",
    "    for ak in range(len(abn_odKey)):\n",
    "        \n",
    "        if len(str(int(abn_odKey[ak].split('-')[0])-1))==2:\n",
    "            match_num = '00'+str(int(abn_odKey[ak].split('-')[0])-1)\n",
    "\n",
    "        elif len(str(int(abn_odKey[ak].split('-')[0])-1))==3:\n",
    "            match_num = '0'+str(int(abn_odKey[ak].split('-')[0])-1)\n",
    "        else:\n",
    "            print(str(int(abn_odKey[ak].split('-')[0])-1))\n",
    "        \n",
    "        ab_x_min = min(abr[abn_odKey[ak]]['x'])\n",
    "        ab_y_min = min(abr[abn_odKey[ak]]['y'])\n",
    "        ab_x_max = max(abr[abn_odKey[ak]]['x'])\n",
    "        ab_y_max = max(abr[abn_odKey[ak]]['y'])\n",
    "# \n",
    "#         dcm_dcm = sitk.ReadImage(dcmList[whl]+'/'+p_num[whl]+'_'+'0'+str(int(abn_odKey[ak].split('-')[0])-1)+'.dcm')\n",
    "        dcm_dcm = sitk.ReadImage(dcmList[whl]+'/'+p_num[whl]+'_'+match_num+'.dcm')\n",
    "        dcm_img = sitk.GetArrayFromImage(dcm_dcm)[0]\n",
    "        img_array = win_scale(dcm_img, wl[whl], ww[whl], np.uint8, (0, 255))\n",
    "\n",
    "    \n",
    "        bbb = np.zeros((16,16), dtype= np.uint8)\n",
    "        bbb[:ab_y_max-ab_y_min, :ab_x_max-ab_x_min] = img_array[ab_y_min:ab_y_max, ab_x_min:ab_x_max]\n",
    "        ab_np[:,:,i] = bbb\n",
    "       \n",
    "        n_x_min = min(nr[n_odKey[ak]]['x'])\n",
    "        n_y_min = min(nr[n_odKey[ak]]['y'])\n",
    "        n_x_max = max(nr[n_odKey[ak]]['x'])\n",
    "        n_y_max = max(nr[n_odKey[ak]]['y'])\n",
    "\n",
    "\n",
    "        nnn = np.zeros((16, 16), dtype= np.uint8)\n",
    "        nnn[:n_y_max-n_y_min,:n_x_max-n_x_min] = img_array[n_y_min:n_y_max, n_x_min:n_x_max]\n",
    "        n_np[:,:,i] = nnn\n",
    "        \n",
    "        i+=1\n",
    "        \n",
    "        np.save('../test_img/16/abnormal_16_paste', ab_np)\n",
    "        np.save('../test_img/16/normal_16_paste', n_np)\n",
    "#         print(i)\n",
    "#         io.imsave('../test_img_origin/abnormal/'+p_num[whl]+'_'+abn_odKey[ak].split('-')[0]+'.png', bbb)\n",
    "#         io.imsave('../test_img_origin/normal/'+p_num[whl]+'_'+abn_odKey[ak].split('-')[0]+'.png', nnn)"
   ],
   "outputs": [],
   "metadata": {}
  },
  {
   "cell_type": "code",
   "execution_count": null,
   "source": [
    "ab_img = sorted(glob.glob('../test_img_origin/abnormal/*.png'))\n",
    "n_img = sorted(glob.glob('../test_img_origin/normal/*.png'))"
   ],
   "outputs": [],
   "metadata": {}
  },
  {
   "cell_type": "code",
   "execution_count": null,
   "source": [
    "plt.imshow(n_np[:,:,0],cmap='gray')"
   ],
   "outputs": [],
   "metadata": {
    "collapsed": true,
    "jupyter": {
     "outputs_hidden": true
    }
   }
  },
  {
   "cell_type": "code",
   "execution_count": null,
   "source": [
    "###imresize\n",
    "size = 32\n",
    "\n",
    "ab_np = np.zeros((51,32,32,1), dtype=np.uint8)\n",
    "n_np = np.zeros((51,32,32,1), dtype= np.uint8)\n",
    "i = 0\n",
    "for ab_whl in range(len(ab_img)):\n",
    "    \n",
    "    ab_im = Image.open(ab_img[ab_whl])\n",
    "    n_im = Image.open(n_img[ab_whl])\n",
    "    aw ,ah = ab_im.size\n",
    "    nw ,nh = n_im.size\n",
    "    ab_scale = size/max(aw, ah)\n",
    "    n_scale = size/max(nw, nh)\n",
    "    if aw > ah:\n",
    "        resized1 = ab_im.resize((size, round(ah*ab_scale)), resample=Image.BILINEAR, box=None)\n",
    "#         resized2 = im.resize((size, round(h*scale)), resample=Image.BILINEAR, box=None)\n",
    "        \n",
    "    else:\n",
    "        resized1 = ab_im.resize((round(aw*ab_scale), size), resample=Image.BILINEAR, box=None)\n",
    "#         resized2 = im.resize((round(w*scale), size), resample=Image.BILINEAR, box=None)\n",
    "    if nw > nh:\n",
    "        resized2 = n_im.resize((size, round(nh*n_scale)), resample=Image.BILINEAR, box=None)\n",
    "#         resized2 = im.resize((size, round(h*scale)), resample=Image.BILINEAR, box=None)\n",
    "        \n",
    "    else:\n",
    "        resized2 = n_im.resize((round(nw*n_scale), size), resample=Image.BILINEAR, box=None)   \n",
    "        \n",
    "        \n",
    "    ab_array = np.array(resized1)\n",
    "    n_array = np.array(resized2)\n",
    "    \n",
    "    ab_np[i][:resized1.size[1], :resized1.size[0],0] = ab_array\n",
    "    n_np[i][:resized2.size[1], :resized2.size[0],0] = n_array\n",
    "    \n",
    "    i+=1\n",
    "    \n",
    "np.save('../test_img/32/abnormal_32_bilinear_1', ab_np)\n",
    "np.save('../test_img/32/normal_32_bilinear_1', n_np)\n",
    "#     plt.figure(figsize=(16,16))\n",
    "#     plt.subplot(1,2,1)\n",
    "#     plt.imshow(resized1, cmap='gray')\n",
    "#     plt.subplot(1,2,2)\n",
    "#     plt.imshow(resized2, cmap='gray')\n",
    "    \n",
    "    \n",
    "    "
   ],
   "outputs": [],
   "metadata": {}
  },
  {
   "cell_type": "code",
   "execution_count": null,
   "source": [
    "\n",
    "\n",
    "plt.figure(figsize=(16,16))\n",
    "plt.subplot(1,2,1)\n",
    "plt.imshow(ab_np[3,:,:,0], cmap='gray')\n",
    "plt.subplot(1,2,2)\n",
    "plt.imshow(n_np[3,:,:,0], cmap='gray')\n",
    "plt.savefig('data_bilinear.png',dpi=200, facecolor='w', edgecolor='w')"
   ],
   "outputs": [],
   "metadata": {}
  },
  {
   "cell_type": "code",
   "execution_count": null,
   "source": [
    "train_img = np.ndarray((70, 32,32, 1), dtype=np.uint8)\n",
    "test_img = np.ndarray((32,32, 32,1), dtype=np.uint8)\n",
    "train_label = []\n",
    "test_label= []\n",
    "for lab in range(102):\n",
    "    if lab< 35:\n",
    "        train_label.append(0)\n",
    "        train_img[lab][:,:,0] = ab_np[lab][:,:,0]\n",
    "    elif lab >= 35 and lab<70:\n",
    "        train_label.append(1)\n",
    "        train_img[lab][:,:,0] = n_np[lab-35][:,:,0]\n",
    "    elif lab >= 70 and lab <86:\n",
    "        test_label.append(0)\n",
    "        test_img[lab-70][:,:,0] = ab_np[lab-35][:,:,0]\n",
    "    else:\n",
    "        test_label.append(1)\n",
    "        test_img[lab-70][:,:,0] = n_np[lab-51][:,:,0]\n"
   ],
   "outputs": [],
   "metadata": {}
  },
  {
   "cell_type": "code",
   "execution_count": null,
   "source": [
    "train_label=np.array(train_label)\n",
    "test_label = np.array(test_label)"
   ],
   "outputs": [],
   "metadata": {}
  },
  {
   "cell_type": "code",
   "execution_count": null,
   "source": [
    "print(test_img.shape)"
   ],
   "outputs": [],
   "metadata": {}
  },
  {
   "cell_type": "code",
   "execution_count": null,
   "source": [
    "np.save('../train_img_32_bilinear', train_img)\n",
    "np.save('../test_img_32_bilinear', test_img)\n",
    "np.save('../test_label_32_bilinear', test_label)\n",
    "np.save('../train_label_32_bilinear', train_label)"
   ],
   "outputs": [],
   "metadata": {}
  },
  {
   "cell_type": "code",
   "execution_count": null,
   "source": [
    "for tttt in range(5):\n",
    "    plt.figure(figsize=(16,16))\n",
    "    plt.subplot(1,2,1)\n",
    "    plt.imshow(train_img[tttt+33][:,:,0], cmap='gray')\n",
    "    plt.subplot(1,2,2)\n",
    "    plt.imshow(test_img[tttt+14][:,:,0], cmap='gray')"
   ],
   "outputs": [],
   "metadata": {
    "collapsed": true,
    "jupyter": {
     "outputs_hidden": true
    }
   }
  },
  {
   "cell_type": "code",
   "execution_count": null,
   "source": [
    "def padding_image(input_image_path):\n",
    "    back= np.zeros((5,10,1), dtype=np.uint8)\n",
    "    im= cv2.imread(input_image_path, cv2.IMREAD_GRAYSCALE)\n",
    "    print(im.shape)\n",
    "    if im.shape[0]>5:\n",
    "        print('1', im.shape[0])\n",
    "        scale = 5/im.shape[0]\n",
    "        print('5',round(im.shape[1]*scale))\n",
    "        print(back.shape)\n",
    "        resized_im= cv2.resize(im, dsize=(5, round(im.shape[1]*scale)), interpolation=cv2.INTER_AREA)\n",
    "        print(resized_im.shape)\n",
    "        resized_im = im.resize((5, round(im.shape[1]*scale)), resample=Image.BILINEAR, box=None)\n",
    "        back[:5, :round(im.shape[1]*scale), 0]= np.array(resized_im)\n",
    "    elif im.shape[1]>6:\n",
    "\n",
    "        scale= 6/im.shape[1]\n",
    "        resized_im= im.resize((round(im.shape[0]*scale), 6), resample=Image.BILINEAR, box=None)\n",
    "        back[:round(im.shape[0]*scale), :6, 0]= np.array(resized_im)\n",
    "    else:\n",
    "        back[:im.shape[0], :im.shape[1], 0]= im\n",
    "\n",
    "    return back"
   ],
   "outputs": [],
   "metadata": {}
  },
  {
   "cell_type": "code",
   "execution_count": null,
   "source": [
    "def padding_image(input_image_path):\n",
    "    in_w= 5\n",
    "    in_h= 6\n",
    "    back= np.zeros((in_w,in_h,1), dtype=np.uint8)\n",
    "    im = Image.open(input_image_path)\n",
    "    w ,h = im.size\n",
    "\n",
    "    if w>in_w:\n",
    "        scale = in_w/w\n",
    "        resized_im = im.resize((in_w, round(h*scale)), resample=Image.BILINEAR, box=None)\n",
    "        back[:round(h*scale), :in_w, 0]= np.array(resized_im)\n",
    "        \n",
    "    elif h>in_h:\n",
    "        scale= in_h/h\n",
    "        resized_im= im.resize((round(w*scale), in_h), resample=Image.BILINEAR, box=None)\n",
    "        back[:in_h, :round(w*scale), 0]= np.array(resized_im)\n",
    "        \n",
    "    elif w>in_w and h> in_h:\n",
    "        st = max(in_w/w, in_h/h)\n",
    "        if st == in_w/w:\n",
    "            scale = in_w/w\n",
    "            resized_im = im.resize((in_w, round(h*scale)), resample=Image.BILINEAR, box=None)\n",
    "            back[:round(h*scale), :in_w, 0]= np.array(resized_im)\n",
    "            \n",
    "        else:\n",
    "            scale= in_h/h\n",
    "            resized_im= im.resize((round(w*scale), in_h), resample=Image.BILINEAR, box=None)\n",
    "            back[:in_h, :round(w*scale), 0]= np.array(resized_im)\n",
    "\n",
    "    else:\n",
    "        back[:h, :w, 0]= im\n",
    "\n",
    "    return back"
   ],
   "outputs": [],
   "metadata": {}
  },
  {
   "cell_type": "code",
   "execution_count": null,
   "source": [
    "a = padding_image(ab_img[0])\n",
    "plt.imshow(a, cmap='gray')"
   ],
   "outputs": [],
   "metadata": {}
  },
  {
   "cell_type": "code",
   "execution_count": null,
   "source": [
    "test= cv2.imread(ab_img[1], cv2.IMREAD_GRAYSCALE)\n",
    "print(test.shape)\n",
    "im= test.resize((64,37))\n",
    "print(im)\n",
    "np.array(im)\n",
    "print(im)"
   ],
   "outputs": [],
   "metadata": {}
  },
  {
   "cell_type": "code",
   "execution_count": null,
   "source": [
    "if im.shape[0]>53:\n",
    "    scale = 53/im.shape[0]\n",
    "    resized_im = im.resize((53, round(im.shape[1]*scale)), resample=Image.BILINEAR, box=None)\n",
    "    back[:53, :round(im.shape[1]*scale), 0]= np.array(resized_im)\n",
    "elif im.shape[1]>48:\n",
    "\n",
    "    scale= 48/im.shape[1]\n",
    "    resized_im= im.resize((round(im.shape[0]*scale), 48), resample=Image.BILINEAR, box=None)\n",
    "    back[:round(im.shape[0]*scale), :48, 0]= np.array(resized_im)\n",
    "else:\n",
    "    back[:im.shape[0], :im.shape[1], 0]= im"
   ],
   "outputs": [],
   "metadata": {}
  },
  {
   "cell_type": "code",
   "execution_count": null,
   "source": [
    "plt.imshow(test, cmap='gray')"
   ],
   "outputs": [],
   "metadata": {}
  }
 ],
 "metadata": {
  "kernelspec": {
   "display_name": "Python 3",
   "language": "python",
   "name": "python3"
  },
  "language_info": {
   "codemirror_mode": {
    "name": "ipython",
    "version": 3
   },
   "file_extension": ".py",
   "mimetype": "text/x-python",
   "name": "python",
   "nbconvert_exporter": "python",
   "pygments_lexer": "ipython3",
   "version": "3.6.12"
  }
 },
 "nbformat": 4,
 "nbformat_minor": 4
}
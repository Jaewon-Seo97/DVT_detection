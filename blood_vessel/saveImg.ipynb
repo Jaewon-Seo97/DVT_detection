{
 "cells": [
  {
   "cell_type": "code",
   "execution_count": null,
   "source": [
    "import cv2\r\n",
    "import numpy as np\r\n",
    "import glob\r\n",
    "import os\r\n",
    "import matplotlib.pyplot as plt\r\n",
    "import SimpleITK as sitk\r\n",
    "\r\n",
    "import zipfile\r\n",
    "from read_roi import read_roi_zip \r\n",
    "\r\n",
    "from  scipy import ndimage\r\n",
    "\r\n",
    "from skimage.io import imread, imshow\r\n",
    "from skimage import *\r\n",
    "import skimage\r\n",
    "\r\n",
    "import pandas as pd\r\n",
    "from PIL import *\r\n",
    "\r\n",
    "###########################\r\n",
    "def win_scale(data, wl, ww, dtype, out_range):\r\n",
    "    \"\"\"\r\n",
    "    Scale pixel intensity data using specified window level, width, and intensity range.\r\n",
    "    \"\"\"\r\n",
    "    \r\n",
    "    data_new = np.empty(data.shape, dtype=np.double)\r\n",
    "    data_new.fill(out_range[1]-1)\r\n",
    "    \r\n",
    "    data_new[data <= (wl-ww/2.0)] = out_range[0]\r\n",
    "    \r\n",
    "    data_new[(data>(wl-ww/2.0))&(data<=(wl+ww/2.0))] = ((data[(data>(wl-ww/2.0))&(data<=(wl+ww/2.0))]-(wl-0.5))/(ww-1.0)+0.5)*(out_range[1]-out_range[0])+out_range[0]\r\n",
    "    \r\n",
    "    data_new[data > (wl+ww/2.0)] = out_range[1]-1\r\n",
    "    \r\n",
    "    return data_new.astype(dtype)"
   ],
   "outputs": [],
   "metadata": {}
  },
  {
   "cell_type": "code",
   "execution_count": null,
   "source": [
    "pwd"
   ],
   "outputs": [],
   "metadata": {}
  },
  {
   "cell_type": "code",
   "execution_count": null,
   "source": [
    "xlsx = pd.read_excel('../../local/data/dvt_list.xlsx')"
   ],
   "outputs": [],
   "metadata": {}
  },
  {
   "cell_type": "code",
   "execution_count": null,
   "source": [
    "p_numpath= sorted(glob.glob('../../local/data/dvt/*'))\r\n",
    "print(p_numpath[0])"
   ],
   "outputs": [],
   "metadata": {}
  },
  {
   "cell_type": "code",
   "execution_count": null,
   "source": [
    "p_numStr=[]\r\n",
    "p_numInt=[]\r\n",
    "for pn in range(len(p_numpath)):\r\n",
    "    p_numStr.append(p_numpath[pn][p_numpath[pn].rindex('/')+1:])\r\n",
    "    p_numInt.append(int(p_numpath[pn][p_numpath[pn].rindex('/')+1:]))\r\n",
    "print(p_numStr[0])\r\n",
    "print(p_numInt[0])\r\n",
    "print(len(p_numpath),len(p_numStr),len(p_numInt))"
   ],
   "outputs": [],
   "metadata": {}
  },
  {
   "cell_type": "code",
   "execution_count": null,
   "source": [
    "print(xlsx['ID'][0])\r\n",
    "print(xlsx)"
   ],
   "outputs": [],
   "metadata": {}
  },
  {
   "cell_type": "code",
   "execution_count": null,
   "source": [
    "p_ids = []\r\n",
    "ww_list = []\r\n",
    "wl_list = []\r\n",
    "for ids in range(len(xlsx)):\r\n",
    "    p_ids.append(str(xlsx['ID'][ids]))\r\n",
    "    ww_list.append(xlsx['WW'][ids])\r\n",
    "    wl_list.append(xlsx['WL'][ids])\r\n",
    "print(len(p_ids), len(ww_list), len(wl_list))    "
   ],
   "outputs": [],
   "metadata": {}
  },
  {
   "cell_type": "code",
   "execution_count": null,
   "source": [
    "print(type(p_ids[30]))\r\n",
    "print(p_ids)"
   ],
   "outputs": [],
   "metadata": {}
  },
  {
   "cell_type": "code",
   "execution_count": null,
   "source": [
    "print(p_ids.index(p_numStr[45]))\r\n",
    "print(p_ids[p_ids.index(p_numStr[45])], p_numStr[45])\r\n",
    "ww=[]\r\n",
    "wl=[]\r\n",
    "for tt in range(len(p_numStr)):\r\n",
    "    if p_numStr[tt] not in p_ids:\r\n",
    "        print(p_numStr[tt], 'files not in list')\r\n",
    "    else:\r\n",
    "        print('number:', tt, 'match:', p_ids[p_ids.index(p_numStr[tt])], p_numStr[tt])\r\n",
    "        if p_ids[p_ids.index(p_numStr[tt])] != p_numStr[tt]:\r\n",
    "            print('No matching')\r\n",
    "        else:\r\n",
    "            ww.append(ww_list[p_ids.index(p_numStr[tt])])\r\n",
    "            wl.append(wl_list[p_ids.index(p_numStr[tt])])"
   ],
   "outputs": [],
   "metadata": {
    "collapsed": true,
    "jupyter": {
     "outputs_hidden": true
    }
   }
  },
  {
   "cell_type": "code",
   "execution_count": null,
   "source": [
    "print(len(p_numpath), len(ww), len(wl))\r\n",
    "dcmfiles= glob.glob(p_numpath[0]+'/*.dcm')\r\n",
    "print(dcmfiles[0], dcmfiles[0][dcmfiles[0].rindex('/') + 1 :dcmfiles[0].rindex('.dcm')])"
   ],
   "outputs": [],
   "metadata": {}
  },
  {
   "cell_type": "code",
   "execution_count": null,
   "source": [
    "imgpath='../../defaultImg'"
   ],
   "outputs": [],
   "metadata": {}
  },
  {
   "cell_type": "code",
   "execution_count": null,
   "source": [
    "for df in range(len(p_numpath)):\n",
    "    os.mkdir(imgpath+ '/' + p_numStr[df])\n",
    "    png_path= imgpath+ '/' + p_numStr[df]\n",
    "    dcmfiles= glob.glob(p_numpath[df]+'/*.dcm')\n",
    "    # print(dcmfiles)\n",
    "    for dwh in range(len(dcmfiles)):\n",
    "\n",
    "        dcmname= dcmfiles[dwh][dcmfiles[0].rindex('/') + 1 :dcmfiles[0].rindex('.dcm')]\n",
    "\n",
    "        dcm_dcm = sitk.ReadImage(dcmfiles[dwh])\n",
    "        dcm_img = sitk.GetArrayFromImage(dcm_dcm)[0]\n",
    "\n",
    "        dcm_scaled = win_scale(dcm_img, wl[df], ww[df], np.uint8, (0, 255))\n",
    "\n",
    "#         plt.figure(figsize=(10,10))\n",
    "#         plt.imshow(dcm_scaled, cmap='gray')\n",
    "        \n",
    "        io.imsave(png_path+'/'+ dcmname+'.png', dcm_scaled)\n"
   ],
   "outputs": [],
   "metadata": {
    "collapsed": true,
    "jupyter": {
     "outputs_hidden": true
    }
   }
  }
 ],
 "metadata": {
  "kernelspec": {
   "display_name": "Python 3",
   "language": "python",
   "name": "python3"
  },
  "language_info": {
   "codemirror_mode": {
    "name": "ipython",
    "version": 3
   },
   "file_extension": ".py",
   "mimetype": "text/x-python",
   "name": "python",
   "nbconvert_exporter": "python",
   "pygments_lexer": "ipython3",
   "version": "3.6.12"
  }
 },
 "nbformat": 4,
 "nbformat_minor": 4
}